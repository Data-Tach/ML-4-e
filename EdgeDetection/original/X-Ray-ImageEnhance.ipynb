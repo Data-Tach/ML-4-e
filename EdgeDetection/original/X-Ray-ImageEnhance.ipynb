{
 "cells": [
  {
   "cell_type": "code",
   "execution_count": 2,
   "metadata": {
    "ExecuteTime": {
     "end_time": "2022-05-15T11:01:08.527451Z",
     "start_time": "2022-05-15T11:01:08.517359Z"
    }
   },
   "outputs": [],
   "source": [
    "import cv2\n",
    "from PIL import Image, ImageEnhance, ImageOps\n",
    "import numpy as np\n",
    "\n",
    "red = (255, 0, 0)\n",
    "black = (0, 0, 0)\n",
    "grey = (128, 128, 128)\n",
    "white = (255, 255, 255)"
   ]
  },
  {
   "cell_type": "code",
   "execution_count": 3,
   "metadata": {
    "ExecuteTime": {
     "end_time": "2022-05-15T11:02:33.410816Z",
     "start_time": "2022-05-15T11:02:33.402241Z"
    }
   },
   "outputs": [],
   "source": [
    "def get_edges(img):\n",
    "    img = cv2.cvtColor(img, cv2.COLOR_BGR2BGRA)\n",
    "    img = img - cv2.GaussianBlur(img, (21, 21), 21) + 255\n",
    "    img[:, :, 3] = (255 * ((white - img[:, :, :3]) >= grey).all(axis=2)).astype(np.uint8)\n",
    "    return img\n",
    "\n",
    "def get_enhanced_image(path):\n",
    "    img = cv2.imread(path)\n",
    "    img = cv2.bitwise_not(img)\n",
    "    htm = cv2.applyColorMap(img, cv2.COLORMAP_AUTUMN)\n",
    "    htm = cv2.bitwise_not(htm)\n",
    "    eds = get_edges(img)\n",
    "    background = Image.fromarray(htm)\n",
    "    background = ImageEnhance.Brightness(background).enhance(1)\n",
    "#     background = ImageEnhance.Contrast(background).enhance(2)\n",
    "    overlay = Image.fromarray(eds)\n",
    "    background.paste(overlay, (0,0), mask = overlay)\n",
    "    return np.asarray(background)"
   ]
  },
  {
   "cell_type": "code",
   "execution_count": 9,
   "metadata": {
    "ExecuteTime": {
     "end_time": "2022-05-15T11:02:34.750610Z",
     "start_time": "2022-05-15T11:02:33.757540Z"
    }
   },
   "outputs": [],
   "source": [
    "# COVID Negative\n",
    "covid_negative = Image.fromarray(get_enhanced_image(\"D://JYOTHIPRAKASH//desktop//MLPaperPre//EdgeDetection//Normal_02.jpeg\"))"
   ]
  },
  {
   "cell_type": "code",
   "execution_count": 11,
   "metadata": {},
   "outputs": [],
   "source": [
    "covid_negative.save(\"covid_negative_image_enhacement.png\")"
   ]
  },
  {
   "cell_type": "code",
   "execution_count": 12,
   "metadata": {
    "ExecuteTime": {
     "end_time": "2022-05-15T11:02:35.262447Z",
     "start_time": "2022-05-15T11:02:34.752629Z"
    }
   },
   "outputs": [],
   "source": [
    "# COVID Positive\n",
    "Image.fromarray(get_enhanced_image('D://JYOTHIPRAKASH//desktop//MLPaperPre//EdgeDetection//covid-19_01.png')).save(\"covid_positive_ie.png\")"
   ]
  },
  {
   "cell_type": "code",
   "execution_count": null,
   "metadata": {},
   "outputs": [],
   "source": []
  },
  {
   "cell_type": "code",
   "execution_count": 13,
   "metadata": {
    "ExecuteTime": {
     "end_time": "2022-05-15T11:03:50.565263Z",
     "start_time": "2022-05-15T11:03:49.620409Z"
    }
   },
   "outputs": [],
   "source": [
    "# COVID Positive (Severe)\n",
    "Image.fromarray(get_enhanced_image('D://JYOTHIPRAKASH//desktop//MLPaperPre//EdgeDetection//original//orginal2.jpeg')).save(\"covid_positive_original_ie.png\")"
   ]
  },
  {
   "cell_type": "code",
   "execution_count": null,
   "metadata": {},
   "outputs": [],
   "source": []
  }
 ],
 "metadata": {
  "kernelspec": {
   "display_name": "Python 3",
   "language": "python",
   "name": "python3"
  },
  "language_info": {
   "codemirror_mode": {
    "name": "ipython",
    "version": 3
   },
   "file_extension": ".py",
   "mimetype": "text/x-python",
   "name": "python",
   "nbconvert_exporter": "python",
   "pygments_lexer": "ipython3",
   "version": "3.8.5"
  },
  "latex_envs": {
   "LaTeX_envs_menu_present": true,
   "autoclose": false,
   "autocomplete": true,
   "bibliofile": "biblio.bib",
   "cite_by": "apalike",
   "current_citInitial": 1,
   "eqLabelWithNumbers": true,
   "eqNumInitial": 1,
   "hotkeys": {
    "equation": "Ctrl-E",
    "itemize": "Ctrl-I"
   },
   "labels_anchors": false,
   "latex_user_defs": false,
   "report_style_numbering": false,
   "user_envs_cfg": false
  }
 },
 "nbformat": 4,
 "nbformat_minor": 4
}
